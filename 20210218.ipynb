{
 "metadata": {
  "language_info": {
   "codemirror_mode": {
    "name": "ipython",
    "version": 3
   },
   "file_extension": ".py",
   "mimetype": "text/x-python",
   "name": "python",
   "nbconvert_exporter": "python",
   "pygments_lexer": "ipython3",
   "version": 3
  },
  "orig_nbformat": 2
 },
 "nbformat": 4,
 "nbformat_minor": 2,
 "cells": [
  {
   "source": [
    "# Torre di Hanoi\n",
    "Poniamo di voler risolvere il famoso problema della torre di Hanoi in maniera ricorsiva."
   ],
   "cell_type": "markdown",
   "metadata": {}
  },
  {
   "cell_type": "code",
   "execution_count": null,
   "metadata": {},
   "outputs": [],
   "source": [
    "def hanoi(source: list, aux, dest, n):\n",
    "    if n == 0:\n",
    "        return\n",
    "\n",
    "    hanoi(source, dest, aux, n - 1)\n",
    "    disk = source.pop()\n",
    "    print(\"Sposto %s.\" % (disk))\n",
    "    dest.append(disk)\n",
    "    hanoi(aux, source, dest, n - 1)\n",
    "\n",
    "h = [4, 3, 2, 1]\n",
    "d = []\n",
    "\n",
    "hanoi(h, [], d, len(h))"
   ]
  },
  {
   "source": [
    "Per calcolare la complessità computazionale di questa implementazione, possiamo osservare che $T(n)=2T(n-1)+c>2T(n-1)$ da cui consegue che $T(n)=2T(n-1)$ ovvero una complessità computazionale di $O(2^n)$.\n",
    "In questa classe di complessità, ci sono molti problemi che vengono risolti nel mondo quotidiano. Tuttavia, non si tratta di una classe di complessità accettabile per i nostri dispositivi."
   ],
   "cell_type": "markdown",
   "metadata": {}
  }
 ]
}